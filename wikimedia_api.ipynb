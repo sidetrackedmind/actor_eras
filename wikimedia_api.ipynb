{
 "cells": [
  {
   "cell_type": "code",
   "execution_count": 1,
   "metadata": {},
   "outputs": [],
   "source": [
    "import requests\n",
    "import json"
   ]
  },
  {
   "cell_type": "code",
   "execution_count": 4,
   "metadata": {},
   "outputs": [],
   "source": [
    "with open(\"wikicreds.json\") as f:\n",
    "    creds = json.load(f)"
   ]
  },
  {
   "cell_type": "code",
   "execution_count": 45,
   "metadata": {},
   "outputs": [],
   "source": [
    "language_code = 'en'\n",
    "search_query = 'Brad Pitt'\n",
    "number_of_results = 1\n",
    "headers = {\n",
    "#   'Authorization': f\"Bearer {creds['access_token']}\",\n",
    "  'User-Agent': 'general exploration (malnorba@gmail.com)'\n",
    "}\n",
    "\n",
    "base_url = 'https://api.wikimedia.org/core/v1/wikipedia/'\n",
    "endpoint = '/search/page'\n",
    "url = base_url + language_code + endpoint\n",
    "parameters = {'q': search_query, 'limit': number_of_results}\n",
    "response = requests.get(url, headers=headers, params=parameters)\n",
    "json_response = json.loads(response.text)\n",
    "page_id = json_response['pages'][0]['id']"
   ]
  },
  {
   "cell_type": "code",
   "execution_count": 48,
   "metadata": {},
   "outputs": [
    {
     "name": "stdout",
     "output_type": "stream",
     "text": [
      "{\"warnings\":{\"main\":{\"*\":\"Unrecognized parameter: curid.\"}},\"batchcomplete\":\"\"}\n"
     ]
    }
   ],
   "source": [
    "wikidata_base_url = 'http://en.wikipedia.org/w/api.php'\n",
    "parameters = {'action':'query','curid': page_id,'format':'json'}\n",
    "response = requests.get(wikidata_base_url, headers=headers, params=parameters)\n",
    "print(response.text)"
   ]
  },
  {
   "cell_type": "code",
   "execution_count": 43,
   "metadata": {},
   "outputs": [
    {
     "name": "stdout",
     "output_type": "stream",
     "text": [
      "{\"batchcomplete\":\"\",\"warnings\":{\"main\":{\"*\":\"Subscribe to the mediawiki-api-announce mailing list at <https://lists.wikimedia.org/postorius/lists/mediawiki-api-announce.lists.wikimedia.org/> for notice of API deprecations and breaking changes. Use [[Special:ApiFeatureUsage]] to see usage of deprecated features by your application.\"},\"revisions\":{\"*\":\"Because \\\"rvslots\\\" was not specified, a legacy format has been used for the output. This format is deprecated, and in the future the new format will always be used.\"}},\"query\":{\"pages\":{\"44849\":{\"pageid\":44849,\"ns\":0,\"title\":\"Brad Pitt\",\"revisions\":[{\"contentformat\":\"text/x-wiki\",\"contentmodel\":\"wikitext\",\"*\":\"{{Short description|American actor (born 1963)}}\\n{{Other uses}}\\n{{pp-blp|small=yes}}\\n{{Featured article}}\\n{{Use American English|date=September 2019}}\\n{{Use mdy dates|date=July 2020}}\\n{{Infobox person\\n| name               = Brad Pitt\\n| image              = File:Brad Pitt 2019 by Glenn Francis.jpg\\n| alt                = Brad Pitt in 2019\\n| caption            = Pitt in 2019\\n| birth_name         = William Bradley Pitt\\n| birth_date         = {{Birth date and age|1963|12|18}}<ref>{{cite web |title=Encyclop\\u00e6dia Britannica |url=https://www.britannica.com/biography/Brad-Pitt |access-date=25 July 2022 |archive-date=July 10, 2022 |archive-url=https://web.archive.org/web/20220710212037/https://www.britannica.com/biography/Brad-Pitt |url-status=live }}</ref>\\n| birth_place        = [[Shawnee, Oklahoma]], U.S.\\n| alma_mater         = [[University of Missouri]]\\n| occupation         = {{hlist|Actor|film producer}}\\n| years_active       = 1987\\u2013present\\n| works              = [[Brad Pitt filmography|Full list]]\\n| spouse             = {{ubl\\n|{{marriage|[[Jennifer Aniston]]|2000|2005|reason=divorced}}\\n|{{marriage|[[Angelina Jolie]]|2014|2019|reason=divorced}}<ref name=Guardian20210723>{{cite news|agency=Associated Press|date=July 23, 2021|title=Win for Angelina Jolie as court disqualified judge in Brad Pitt divorce case|url=https://www.theguardian.com/us-news/2021/jul/23/angelina-jolie-brad-pitt-divorce-judge-court|work=The Guardian|access-date=July 25, 2021|quote=The judge already ruled the pair divorced, but separated the child custody issues.\\\" [...] \\\"They were declared divorced in April 2019, after their lawyers asked for a judgment that allowed a married couple to be declared single while other issues remained, including finances and child custody.|archive-date=April 11, 2022|archive-url=https://web.archive.org/web/20220411223835/https://www.theguardian.com/us-news/2021/jul/23/angelina-jolie-brad-pitt-divorce-judge-court|url-status=live}}</ref>}}\\n| children           = 6\\n| awards             = [[List of awards and nominations received by Brad Pitt|Full list]]\\n}}\\n\\n'''William Bradley Pitt''' (born December 18, 1963) is an American actor and film producer. He is the recipient of [[list of awards and nominations received by Brad Pitt|various accolades]], including two [[Academy Awards]], two [[British Academy Film Awards]], two [[Golden Globe Awards]], and a [[Primetime Emmy Award]]. As a [[public figure]], Pitt has been cited as one of the most powerful and influential people in the [[Cinema of the United States|American entertainment industry]]. \\n\\nPitt first gained recognition as a [[cowboy]] hitchhiker in the [[Ridley Scott]] road film ''[[Thelma & Louise]]'' (1991). His first leading roles in big-budget productions came with the drama films ''[[A River Runs Through It (film)|A River Runs Through It]]'' (1992) and ''[[Legends of the Fall]]'' (1994). He also starred in the horror film ''[[Interview with the Vampire (film)|Interview with the Vampire]]'' (1994), alongside [[Tom Cruise]]. He gave critically acclaimed performances in [[David Fincher]]'s crime thriller ''[[Seven (1995 film)|Seven]]'' (1995) and the science fiction film ''[[12 Monkeys]]'' (1995). The latter earned him a [[Golden Globe Award for Best Supporting Actor \\u2013 Motion Picture|Golden Globe Award for Best Supporting Actor]] and his first Academy Award nomination.\\n\\nPitt found greater commercial success starring in [[Steven Soderbergh]]'s heist film ''[[Ocean's Eleven]]'' (2001), and reprised his role in its sequels. He cemented his [[leading man]] status starring in [[blockbuster (entertainment)|blockbusters]] such as the historical epic ''[[Troy (film)|Troy]]'' (2004), the romantic crime film ''[[Mr. & Mrs. Smith (2005 film)|Mr. & Mrs. Smith]]'' (2005), the horror film ''[[World War Z (film)|World War Z]]'' (2013), and the action film ''[[Bullet Train (film)|Bullet Train]]'' (2022). Pitt also starred in the critically acclaimed films ''[[Fight Club]]'' (1999), ''[[Babel (film)|Babel]]'' (2006), ''[[The Assassination of Jesse James by the Coward Robert Ford]]'' (2007), ''[[Burn After Reading]]'' (2008), ''[[Inglourious Basterds]]'' (2009), ''[[The Tree of Life (film)|The Tree of Life]]'' (2011), and ''[[The Big Short (film)|The Big Short]]'' (2015). Pitt received Academy Award nominations for his performances in ''[[The Curious Case of Benjamin Button (film)|The Curious Case of Benjamin Button]]'' (2008) and ''[[Moneyball (film)|Moneyball]]'' (2011), and he won the [[Academy Award for Best Supporting Actor]] for playing a stuntman in ''[[Once Upon a Time in Hollywood]]'' (2019).\\n\\nIn 2001, Pitt co-founded the production company [[Plan B Entertainment]].<ref>{{cite web|url= https://people.com/movies/oscar-movies-brad-pitt-has-produced-over-the-years-from-minari-to-moonlight/|title= Oscar Movies Brad Pitt Has Produced Over the Years \\u2013 from Minari to Moonlight|website= [[People (magazine)|People]]|accessdate= July 2, 2022|archive-date= July 2, 2022|archive-url= https://web.archive.org/web/20220702122237/https://people.com/movies/oscar-movies-brad-pitt-has-produced-over-the-years-from-minari-to-moonlight/|url-status= live}}</ref> He produced ''[[The Departed]]'' (2006), ''[[12 Years a Slave (film)|12 Years a Slave]]'' (2013), and ''[[Moonlight (2016 film)|Moonlight]]'' (2016), all of which won the [[Academy Award for Best Picture]], while others such as ''The Tree of Life'' (2011), ''Moneyball'' (2011), ''[[Selma (film)|Selma]]'' (2014), and ''The Big Short'' (2015) were nominated for the award. Pitt was named ''People's'' [[Sexiest Man Alive]] in 1995 and 2000. His personal life is the subject of wide publicity. He is divorced from actresses [[Jennifer Aniston]] and [[Angelina Jolie]]. Pitt has six children with Jolie, three of whom were adopted internationally.\"}]}}}}\n"
     ]
    }
   ],
   "source": [
    "wikidata_base_url = 'http://en.wikipedia.org/w/api.php'\n",
    "parameters = {'action':'query','titles': search_query,'prop':'revisions', 'rvprop':'content','format':'json','rvsection':'0'}\n",
    "response = requests.get(wikidata_base_url, headers=headers, params=parameters)\n",
    "print(response.text)"
   ]
  },
  {
   "cell_type": "markdown",
   "metadata": {},
   "source": [
    "Resources:\n",
    "- https://www.dbpedia.org/resources/"
   ]
  },
  {
   "cell_type": "markdown",
   "metadata": {},
   "source": []
  }
 ],
 "metadata": {
  "kernelspec": {
   "display_name": "taylor-lyrics",
   "language": "python",
   "name": "python3"
  },
  "language_info": {
   "codemirror_mode": {
    "name": "ipython",
    "version": 3
   },
   "file_extension": ".py",
   "mimetype": "text/x-python",
   "name": "python",
   "nbconvert_exporter": "python",
   "pygments_lexer": "ipython3",
   "version": "3.10.6"
  }
 },
 "nbformat": 4,
 "nbformat_minor": 2
}
