{
 "cells": [
  {
   "cell_type": "code",
   "execution_count": 1,
   "metadata": {},
   "outputs": [],
   "source": [
    "import pandas as pd"
   ]
  },
  {
   "cell_type": "code",
   "execution_count": 2,
   "metadata": {},
   "outputs": [
    {
     "data": {
      "text/html": [
       "<div>\n",
       "<style scoped>\n",
       "    .dataframe tbody tr th:only-of-type {\n",
       "        vertical-align: middle;\n",
       "    }\n",
       "\n",
       "    .dataframe tbody tr th {\n",
       "        vertical-align: top;\n",
       "    }\n",
       "\n",
       "    .dataframe thead th {\n",
       "        text-align: right;\n",
       "    }\n",
       "</style>\n",
       "<table border=\"1\" class=\"dataframe\">\n",
       "  <thead>\n",
       "    <tr style=\"text-align: right;\">\n",
       "      <th></th>\n",
       "      <th>nconst</th>\n",
       "      <th>wiki_image_link</th>\n",
       "    </tr>\n",
       "  </thead>\n",
       "  <tbody>\n",
       "    <tr>\n",
       "      <th>0</th>\n",
       "      <td>nm0000685</td>\n",
       "      <td>https://upload.wikimedia.org/wikipedia/commons...</td>\n",
       "    </tr>\n",
       "    <tr>\n",
       "      <th>1</th>\n",
       "      <td>nm1221047</td>\n",
       "      <td>https://upload.wikimedia.org/wikipedia/commons...</td>\n",
       "    </tr>\n",
       "  </tbody>\n",
       "</table>\n",
       "</div>"
      ],
      "text/plain": [
       "      nconst                                    wiki_image_link\n",
       "0  nm0000685  https://upload.wikimedia.org/wikipedia/commons...\n",
       "1  nm1221047  https://upload.wikimedia.org/wikipedia/commons..."
      ]
     },
     "execution_count": 2,
     "metadata": {},
     "output_type": "execute_result"
    }
   ],
   "source": [
    "image_link_list_w_name_all = pd.read_csv(\"image_link_list_w_name_all.csv\", usecols=['nconst','wiki_image_link'])\n",
    "image_link_list_w_name_all.head(2)"
   ]
  },
  {
   "cell_type": "code",
   "execution_count": 13,
   "metadata": {},
   "outputs": [
    {
     "data": {
      "text/html": [
       "<div>\n",
       "<style scoped>\n",
       "    .dataframe tbody tr th:only-of-type {\n",
       "        vertical-align: middle;\n",
       "    }\n",
       "\n",
       "    .dataframe tbody tr th {\n",
       "        vertical-align: top;\n",
       "    }\n",
       "\n",
       "    .dataframe thead th {\n",
       "        text-align: right;\n",
       "    }\n",
       "</style>\n",
       "<table border=\"1\" class=\"dataframe\">\n",
       "  <thead>\n",
       "    <tr style=\"text-align: right;\">\n",
       "      <th></th>\n",
       "      <th>startYear</th>\n",
       "      <th>primaryName</th>\n",
       "      <th>nconst</th>\n",
       "      <th>age_at_movie</th>\n",
       "      <th>rolling_5yr_sumrating</th>\n",
       "      <th>max_rolling_5yr_sumrating</th>\n",
       "    </tr>\n",
       "  </thead>\n",
       "  <tbody>\n",
       "    <tr>\n",
       "      <th>15</th>\n",
       "      <td>1995</td>\n",
       "      <td>Aaron Eckhart</td>\n",
       "      <td>NaN</td>\n",
       "      <td>27</td>\n",
       "      <td>NaN</td>\n",
       "      <td>28.566667</td>\n",
       "    </tr>\n",
       "    <tr>\n",
       "      <th>60</th>\n",
       "      <td>1995</td>\n",
       "      <td>Adam Driver</td>\n",
       "      <td>NaN</td>\n",
       "      <td>12</td>\n",
       "      <td>NaN</td>\n",
       "      <td>35.850000</td>\n",
       "    </tr>\n",
       "    <tr>\n",
       "      <th>105</th>\n",
       "      <td>1995</td>\n",
       "      <td>Adam Sandler</td>\n",
       "      <td>nm0001191</td>\n",
       "      <td>29</td>\n",
       "      <td>12.5</td>\n",
       "      <td>33.000000</td>\n",
       "    </tr>\n",
       "  </tbody>\n",
       "</table>\n",
       "</div>"
      ],
      "text/plain": [
       "     startYear    primaryName     nconst  age_at_movie  rolling_5yr_sumrating   \n",
       "15        1995  Aaron Eckhart        NaN            27                    NaN  \\\n",
       "60        1995    Adam Driver        NaN            12                    NaN   \n",
       "105       1995   Adam Sandler  nm0001191            29                   12.5   \n",
       "\n",
       "     max_rolling_5yr_sumrating  \n",
       "15                   28.566667  \n",
       "60                   35.850000  \n",
       "105                  33.000000  "
      ]
     },
     "execution_count": 13,
     "metadata": {},
     "output_type": "execute_result"
    }
   ],
   "source": [
    "actors_with_all_years_sorted = pd.read_csv(\"actors_with_all_years_sorted.csv\", usecols=['startYear','nconst','primaryName','age_at_movie','rolling_5yr_sumrating','max_rolling_5yr_sumrating'])\n",
    "actors_one_year_sorted = actors_with_all_years_sorted[actors_with_all_years_sorted['startYear']==1995].copy()\n",
    "actors_one_year_sorted.head(3)"
   ]
  },
  {
   "cell_type": "code",
   "execution_count": 14,
   "metadata": {},
   "outputs": [
    {
     "data": {
      "text/html": [
       "<div>\n",
       "<style scoped>\n",
       "    .dataframe tbody tr th:only-of-type {\n",
       "        vertical-align: middle;\n",
       "    }\n",
       "\n",
       "    .dataframe tbody tr th {\n",
       "        vertical-align: top;\n",
       "    }\n",
       "\n",
       "    .dataframe thead th {\n",
       "        text-align: right;\n",
       "    }\n",
       "</style>\n",
       "<table border=\"1\" class=\"dataframe\">\n",
       "  <thead>\n",
       "    <tr style=\"text-align: right;\">\n",
       "      <th></th>\n",
       "      <th>startYear</th>\n",
       "      <th>primaryName</th>\n",
       "      <th>nconst</th>\n",
       "      <th>age_at_movie</th>\n",
       "      <th>rolling_5yr_sumrating</th>\n",
       "      <th>max_rolling_5yr_sumrating</th>\n",
       "    </tr>\n",
       "  </thead>\n",
       "  <tbody>\n",
       "    <tr>\n",
       "      <th>105</th>\n",
       "      <td>1995</td>\n",
       "      <td>Adam Sandler</td>\n",
       "      <td>nm0001191</td>\n",
       "      <td>29</td>\n",
       "      <td>12.50</td>\n",
       "      <td>33.000000</td>\n",
       "    </tr>\n",
       "    <tr>\n",
       "      <th>195</th>\n",
       "      <td>1995</td>\n",
       "      <td>Al Pacino</td>\n",
       "      <td>nm0000199</td>\n",
       "      <td>55</td>\n",
       "      <td>30.75</td>\n",
       "      <td>36.150000</td>\n",
       "    </tr>\n",
       "    <tr>\n",
       "      <th>240</th>\n",
       "      <td>1995</td>\n",
       "      <td>Alan Arkin</td>\n",
       "      <td>NaN</td>\n",
       "      <td>61</td>\n",
       "      <td>14.30</td>\n",
       "      <td>28.166667</td>\n",
       "    </tr>\n",
       "  </tbody>\n",
       "</table>\n",
       "</div>"
      ],
      "text/plain": [
       "     startYear   primaryName     nconst  age_at_movie  rolling_5yr_sumrating   \n",
       "105       1995  Adam Sandler  nm0001191            29                  12.50  \\\n",
       "195       1995     Al Pacino  nm0000199            55                  30.75   \n",
       "240       1995    Alan Arkin        NaN            61                  14.30   \n",
       "\n",
       "     max_rolling_5yr_sumrating  \n",
       "105                  33.000000  \n",
       "195                  36.150000  \n",
       "240                  28.166667  "
      ]
     },
     "execution_count": 14,
     "metadata": {},
     "output_type": "execute_result"
    }
   ],
   "source": [
    "actors_one_year_dropna = actors_one_year_sorted[~actors_one_year_sorted['rolling_5yr_sumrating'].isna()].copy()\n",
    "actors_one_year_dropna.head(3)"
   ]
  },
  {
   "cell_type": "code",
   "execution_count": 15,
   "metadata": {},
   "outputs": [],
   "source": [
    "actors_one_year_dropna_with_link = actors_one_year_dropna.merge(image_link_list_w_name_all, on='nconst')"
   ]
  },
  {
   "cell_type": "code",
   "execution_count": 16,
   "metadata": {},
   "outputs": [],
   "source": [
    "actors_one_year_dropna_with_link.to_csv(\"actors_one_year_dropna_with_link.csv\", index=False)"
   ]
  },
  {
   "cell_type": "code",
   "execution_count": 17,
   "metadata": {},
   "outputs": [],
   "source": [
    "actors_all_year_dropna_with_link = actors_with_all_years_sorted.merge(image_link_list_w_name_all, on='nconst')"
   ]
  },
  {
   "cell_type": "code",
   "execution_count": 18,
   "metadata": {},
   "outputs": [],
   "source": [
    "actors_all_year_dropna_with_link.to_csv(\"actors_all_year_dropna_with_link.csv\", index=False)"
   ]
  },
  {
   "cell_type": "code",
   "execution_count": 19,
   "metadata": {},
   "outputs": [],
   "source": [
    "actors_all_year_dropna_with_link[actors_all_year_dropna_with_link['max_rolling_5yr_sumrating']>30].to_csv(\"actors_all_year_30+_with_link.csv\", index=False)"
   ]
  },
  {
   "cell_type": "code",
   "execution_count": 20,
   "metadata": {},
   "outputs": [],
   "source": [
    "all_years_for_label = actors_all_year_dropna_with_link[['startYear']].drop_duplicates()\n",
    "all_years_for_label['x'] = 80\n",
    "all_years_for_label['y'] = 100000"
   ]
  },
  {
   "cell_type": "code",
   "execution_count": 22,
   "metadata": {},
   "outputs": [],
   "source": [
    "all_years_for_label.to_csv(\"all_years_for_label.csv\", index=False)"
   ]
  },
  {
   "cell_type": "code",
   "execution_count": null,
   "metadata": {},
   "outputs": [],
   "source": []
  }
 ],
 "metadata": {
  "kernelspec": {
   "display_name": "taylor-lyrics",
   "language": "python",
   "name": "python3"
  },
  "language_info": {
   "codemirror_mode": {
    "name": "ipython",
    "version": 3
   },
   "file_extension": ".py",
   "mimetype": "text/x-python",
   "name": "python",
   "nbconvert_exporter": "python",
   "pygments_lexer": "ipython3",
   "version": "3.10.6"
  }
 },
 "nbformat": 4,
 "nbformat_minor": 2
}
