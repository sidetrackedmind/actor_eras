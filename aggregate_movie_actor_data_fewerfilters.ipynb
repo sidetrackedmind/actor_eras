{
 "cells": [
  {
   "cell_type": "code",
   "execution_count": 15,
   "metadata": {},
   "outputs": [],
   "source": [
    "import pandas as pd\n",
    "import matplotlib.pyplot as plt\n",
    "from ipywidgets import interact\n",
    "import ipywidgets as widgets"
   ]
  },
  {
   "cell_type": "code",
   "execution_count": 16,
   "metadata": {},
   "outputs": [
    {
     "name": "stdout",
     "output_type": "stream",
     "text": [
      "(313009, 13)\n"
     ]
    },
    {
     "data": {
      "text/html": [
       "<div>\n",
       "<style scoped>\n",
       "    .dataframe tbody tr th:only-of-type {\n",
       "        vertical-align: middle;\n",
       "    }\n",
       "\n",
       "    .dataframe tbody tr th {\n",
       "        vertical-align: top;\n",
       "    }\n",
       "\n",
       "    .dataframe thead th {\n",
       "        text-align: right;\n",
       "    }\n",
       "</style>\n",
       "<table border=\"1\" class=\"dataframe\">\n",
       "  <thead>\n",
       "    <tr style=\"text-align: right;\">\n",
       "      <th></th>\n",
       "      <th>tconst</th>\n",
       "      <th>ordering</th>\n",
       "      <th>nconst</th>\n",
       "      <th>category</th>\n",
       "      <th>job</th>\n",
       "      <th>characters</th>\n",
       "      <th>averageRating</th>\n",
       "      <th>numVotes</th>\n",
       "      <th>primaryTitle</th>\n",
       "      <th>startYear</th>\n",
       "      <th>region</th>\n",
       "      <th>primaryName</th>\n",
       "      <th>birthYear</th>\n",
       "    </tr>\n",
       "  </thead>\n",
       "  <tbody>\n",
       "    <tr>\n",
       "      <th>0</th>\n",
       "      <td>tt0035423</td>\n",
       "      <td>2</td>\n",
       "      <td>nm0413168</td>\n",
       "      <td>actor</td>\n",
       "      <td>\\N</td>\n",
       "      <td>[\"Leopold\"]</td>\n",
       "      <td>6.4</td>\n",
       "      <td>88860</td>\n",
       "      <td>Kate &amp; Leopold</td>\n",
       "      <td>2001.0</td>\n",
       "      <td>US</td>\n",
       "      <td>Hugh Jackman</td>\n",
       "      <td>1968</td>\n",
       "    </tr>\n",
       "    <tr>\n",
       "      <th>2</th>\n",
       "      <td>tt0120903</td>\n",
       "      <td>2</td>\n",
       "      <td>nm0413168</td>\n",
       "      <td>actor</td>\n",
       "      <td>\\N</td>\n",
       "      <td>[\"Logan\"]</td>\n",
       "      <td>7.3</td>\n",
       "      <td>644121</td>\n",
       "      <td>X-Men</td>\n",
       "      <td>2000.0</td>\n",
       "      <td>US</td>\n",
       "      <td>Hugh Jackman</td>\n",
       "      <td>1968</td>\n",
       "    </tr>\n",
       "    <tr>\n",
       "      <th>8</th>\n",
       "      <td>tt0180037</td>\n",
       "      <td>2</td>\n",
       "      <td>nm0413168</td>\n",
       "      <td>actor</td>\n",
       "      <td>\\N</td>\n",
       "      <td>[\"Jack Willis\"]</td>\n",
       "      <td>6.4</td>\n",
       "      <td>2344</td>\n",
       "      <td>Paperback Hero</td>\n",
       "      <td>1999.0</td>\n",
       "      <td>US</td>\n",
       "      <td>Hugh Jackman</td>\n",
       "      <td>1968</td>\n",
       "    </tr>\n",
       "  </tbody>\n",
       "</table>\n",
       "</div>"
      ],
      "text/plain": [
       "      tconst  ordering     nconst category job       characters   \n",
       "0  tt0035423         2  nm0413168    actor  \\N      [\"Leopold\"]  \\\n",
       "2  tt0120903         2  nm0413168    actor  \\N        [\"Logan\"]   \n",
       "8  tt0180037         2  nm0413168    actor  \\N  [\"Jack Willis\"]   \n",
       "\n",
       "   averageRating  numVotes    primaryTitle  startYear region   primaryName   \n",
       "0            6.4     88860  Kate & Leopold     2001.0     US  Hugh Jackman  \\\n",
       "2            7.3    644121           X-Men     2000.0     US  Hugh Jackman   \n",
       "8            6.4      2344  Paperback Hero     1999.0     US  Hugh Jackman   \n",
       "\n",
       "  birthYear  \n",
       "0      1968  \n",
       "2      1968  \n",
       "8      1968  "
      ]
     },
     "execution_count": 16,
     "metadata": {},
     "output_type": "execute_result"
    }
   ],
   "source": [
    "actor_movies_ratings = pd.read_csv(\"actor_movies_ratings.csv\").drop_duplicates(subset=['tconst','nconst'])\n",
    "print(actor_movies_ratings.shape)\n",
    "actor_movies_ratings.head(3)"
   ]
  },
  {
   "cell_type": "code",
   "execution_count": 17,
   "metadata": {},
   "outputs": [
    {
     "data": {
      "text/plain": [
       "(44551, 13)"
      ]
     },
     "execution_count": 17,
     "metadata": {},
     "output_type": "execute_result"
    }
   ],
   "source": [
    "do_not_include = [ 'Ajay Devgn', 'Irrfan Khan',\n",
    "       'Prakash Raj','Paresh Rawal', 'Amitabh Bachchan',\n",
    "       'Aamir Khan', 'Akshay Kumar','Anupam Kher',  'Nassar'\n",
    "       , 'Shah Rukh Khan','Sumit Keshri', 'Gaurav Manaktala', 'Suryakanth']\n",
    "\n",
    "actor_movies_filtered = actor_movies_ratings[(actor_movies_ratings['numVotes']>=10000)\n",
    "                                          #    &(actor_movies_ratings['averageRating']>=7)\n",
    "                                             &(~actor_movies_ratings['primaryName'].isin(do_not_include))].copy()\n",
    "actor_movies_filtered.shape"
   ]
  },
  {
   "cell_type": "code",
   "execution_count": 18,
   "metadata": {},
   "outputs": [
    {
     "data": {
      "text/html": [
       "<div>\n",
       "<style scoped>\n",
       "    .dataframe tbody tr th:only-of-type {\n",
       "        vertical-align: middle;\n",
       "    }\n",
       "\n",
       "    .dataframe tbody tr th {\n",
       "        vertical-align: top;\n",
       "    }\n",
       "\n",
       "    .dataframe thead th {\n",
       "        text-align: right;\n",
       "    }\n",
       "</style>\n",
       "<table border=\"1\" class=\"dataframe\">\n",
       "  <thead>\n",
       "    <tr style=\"text-align: right;\">\n",
       "      <th></th>\n",
       "      <th>startYear</th>\n",
       "    </tr>\n",
       "  </thead>\n",
       "  <tbody>\n",
       "    <tr>\n",
       "      <th>406</th>\n",
       "      <td>1980.0</td>\n",
       "    </tr>\n",
       "    <tr>\n",
       "      <th>930</th>\n",
       "      <td>1981.0</td>\n",
       "    </tr>\n",
       "    <tr>\n",
       "      <th>1120</th>\n",
       "      <td>1982.0</td>\n",
       "    </tr>\n",
       "  </tbody>\n",
       "</table>\n",
       "</div>"
      ],
      "text/plain": [
       "      startYear\n",
       "406      1980.0\n",
       "930      1981.0\n",
       "1120     1982.0"
      ]
     },
     "execution_count": 18,
     "metadata": {},
     "output_type": "execute_result"
    }
   ],
   "source": [
    "all_years = actor_movies_filtered[['startYear']].drop_duplicates().sort_values('startYear')\n",
    "all_years.head(3)"
   ]
  },
  {
   "cell_type": "code",
   "execution_count": 19,
   "metadata": {},
   "outputs": [],
   "source": [
    "actor_movies_filtered['total_hit_movies'] = actor_movies_filtered.groupby('primaryName')['tconst'].transform('nunique')"
   ]
  },
  {
   "cell_type": "code",
   "execution_count": 20,
   "metadata": {},
   "outputs": [
    {
     "data": {
      "text/html": [
       "<div>\n",
       "<style scoped>\n",
       "    .dataframe tbody tr th:only-of-type {\n",
       "        vertical-align: middle;\n",
       "    }\n",
       "\n",
       "    .dataframe tbody tr th {\n",
       "        vertical-align: top;\n",
       "    }\n",
       "\n",
       "    .dataframe thead th {\n",
       "        text-align: right;\n",
       "    }\n",
       "</style>\n",
       "<table border=\"1\" class=\"dataframe\">\n",
       "  <thead>\n",
       "    <tr style=\"text-align: right;\">\n",
       "      <th></th>\n",
       "      <th>tconst</th>\n",
       "      <th>ordering</th>\n",
       "      <th>nconst</th>\n",
       "      <th>category</th>\n",
       "      <th>job</th>\n",
       "      <th>characters</th>\n",
       "      <th>averageRating</th>\n",
       "      <th>numVotes</th>\n",
       "      <th>primaryTitle</th>\n",
       "      <th>startYear</th>\n",
       "      <th>region</th>\n",
       "      <th>primaryName</th>\n",
       "      <th>birthYear</th>\n",
       "      <th>total_hit_movies</th>\n",
       "    </tr>\n",
       "  </thead>\n",
       "  <tbody>\n",
       "    <tr>\n",
       "      <th>35768</th>\n",
       "      <td>tt0418279</td>\n",
       "      <td>7</td>\n",
       "      <td>nm0000685</td>\n",
       "      <td>actor</td>\n",
       "      <td>\\N</td>\n",
       "      <td>[\"Defense Secretary John Keller\"]</td>\n",
       "      <td>7.0</td>\n",
       "      <td>672629</td>\n",
       "      <td>Transformers</td>\n",
       "      <td>2007.0</td>\n",
       "      <td>US</td>\n",
       "      <td>Jon Voight</td>\n",
       "      <td>1938</td>\n",
       "      <td>15</td>\n",
       "    </tr>\n",
       "    <tr>\n",
       "      <th>128366</th>\n",
       "      <td>tt1979376</td>\n",
       "      <td>5</td>\n",
       "      <td>nm1221047</td>\n",
       "      <td>actor</td>\n",
       "      <td>\\N</td>\n",
       "      <td>[\"Ducky\"]</td>\n",
       "      <td>7.7</td>\n",
       "      <td>278543</td>\n",
       "      <td>Toy Story 4</td>\n",
       "      <td>2019.0</td>\n",
       "      <td>US</td>\n",
       "      <td>Keegan-Michael Key</td>\n",
       "      <td>1971</td>\n",
       "      <td>15</td>\n",
       "    </tr>\n",
       "    <tr>\n",
       "      <th>128367</th>\n",
       "      <td>tt1985949</td>\n",
       "      <td>8</td>\n",
       "      <td>nm1221047</td>\n",
       "      <td>actor</td>\n",
       "      <td>\\N</td>\n",
       "      <td>[\"Judge Peckinpah\"]</td>\n",
       "      <td>6.3</td>\n",
       "      <td>103157</td>\n",
       "      <td>The Angry Birds Movie</td>\n",
       "      <td>2016.0</td>\n",
       "      <td>US</td>\n",
       "      <td>Keegan-Michael Key</td>\n",
       "      <td>1971</td>\n",
       "      <td>15</td>\n",
       "    </tr>\n",
       "  </tbody>\n",
       "</table>\n",
       "</div>"
      ],
      "text/plain": [
       "           tconst  ordering     nconst category job   \n",
       "35768   tt0418279         7  nm0000685    actor  \\N  \\\n",
       "128366  tt1979376         5  nm1221047    actor  \\N   \n",
       "128367  tt1985949         8  nm1221047    actor  \\N   \n",
       "\n",
       "                               characters  averageRating  numVotes   \n",
       "35768   [\"Defense Secretary John Keller\"]            7.0    672629  \\\n",
       "128366                          [\"Ducky\"]            7.7    278543   \n",
       "128367                [\"Judge Peckinpah\"]            6.3    103157   \n",
       "\n",
       "                 primaryTitle  startYear region         primaryName birthYear   \n",
       "35768            Transformers     2007.0     US          Jon Voight      1938  \\\n",
       "128366            Toy Story 4     2019.0     US  Keegan-Michael Key      1971   \n",
       "128367  The Angry Birds Movie     2016.0     US  Keegan-Michael Key      1971   \n",
       "\n",
       "        total_hit_movies  \n",
       "35768                 15  \n",
       "128366                15  \n",
       "128367                15  "
      ]
     },
     "execution_count": 20,
     "metadata": {},
     "output_type": "execute_result"
    }
   ],
   "source": [
    "actors_filtered = actor_movies_filtered[actor_movies_filtered['total_hit_movies']>=15].sort_values('total_hit_movies', ascending=True).copy()\n",
    "actors_filtered.head(3)"
   ]
  },
  {
   "cell_type": "code",
   "execution_count": 21,
   "metadata": {},
   "outputs": [],
   "source": [
    "actors_filtered.to_csv(\"actors_filtered.csv\", index=False)"
   ]
  },
  {
   "cell_type": "code",
   "execution_count": 22,
   "metadata": {},
   "outputs": [
    {
     "data": {
      "text/html": [
       "<div>\n",
       "<style scoped>\n",
       "    .dataframe tbody tr th:only-of-type {\n",
       "        vertical-align: middle;\n",
       "    }\n",
       "\n",
       "    .dataframe tbody tr th {\n",
       "        vertical-align: top;\n",
       "    }\n",
       "\n",
       "    .dataframe thead th {\n",
       "        text-align: right;\n",
       "    }\n",
       "</style>\n",
       "<table border=\"1\" class=\"dataframe\">\n",
       "  <thead>\n",
       "    <tr style=\"text-align: right;\">\n",
       "      <th></th>\n",
       "      <th>primaryName</th>\n",
       "      <th>birthYear</th>\n",
       "    </tr>\n",
       "  </thead>\n",
       "  <tbody>\n",
       "    <tr>\n",
       "      <th>35768</th>\n",
       "      <td>Jon Voight</td>\n",
       "      <td>1938</td>\n",
       "    </tr>\n",
       "    <tr>\n",
       "      <th>128366</th>\n",
       "      <td>Keegan-Michael Key</td>\n",
       "      <td>1971</td>\n",
       "    </tr>\n",
       "    <tr>\n",
       "      <th>133567</th>\n",
       "      <td>Hrithik Roshan</td>\n",
       "      <td>1974</td>\n",
       "    </tr>\n",
       "  </tbody>\n",
       "</table>\n",
       "</div>"
      ],
      "text/plain": [
       "               primaryName birthYear\n",
       "35768           Jon Voight      1938\n",
       "128366  Keegan-Michael Key      1971\n",
       "133567      Hrithik Roshan      1974"
      ]
     },
     "execution_count": 22,
     "metadata": {},
     "output_type": "execute_result"
    }
   ],
   "source": [
    "all_actors = actors_filtered[['primaryName','birthYear']].drop_duplicates()\n",
    "all_actors.head(3)"
   ]
  },
  {
   "cell_type": "code",
   "execution_count": 23,
   "metadata": {},
   "outputs": [],
   "source": [
    "all_years['key'] = 0\n",
    "all_actors['key'] = 0\n",
    "all_years_all_actors = all_years.merge(all_actors, on='key', how='outer')"
   ]
  },
  {
   "cell_type": "code",
   "execution_count": 31,
   "metadata": {},
   "outputs": [
    {
     "data": {
      "text/html": [
       "<div>\n",
       "<style scoped>\n",
       "    .dataframe tbody tr th:only-of-type {\n",
       "        vertical-align: middle;\n",
       "    }\n",
       "\n",
       "    .dataframe tbody tr th {\n",
       "        vertical-align: top;\n",
       "    }\n",
       "\n",
       "    .dataframe thead th {\n",
       "        text-align: right;\n",
       "    }\n",
       "</style>\n",
       "<table border=\"1\" class=\"dataframe\">\n",
       "  <thead>\n",
       "    <tr style=\"text-align: right;\">\n",
       "      <th></th>\n",
       "      <th>startYear</th>\n",
       "      <th>nconst</th>\n",
       "      <th>primaryName</th>\n",
       "      <th>averageRating</th>\n",
       "      <th>numVotes</th>\n",
       "      <th>primaryTitle</th>\n",
       "    </tr>\n",
       "  </thead>\n",
       "  <tbody>\n",
       "    <tr>\n",
       "      <th>0</th>\n",
       "      <td>1980.0</td>\n",
       "      <td>nm0000095</td>\n",
       "      <td>Woody Allen</td>\n",
       "      <td>7.2</td>\n",
       "      <td>23919.0</td>\n",
       "      <td>[Stardust Memories]</td>\n",
       "    </tr>\n",
       "    <tr>\n",
       "      <th>1</th>\n",
       "      <td>1980.0</td>\n",
       "      <td>nm0000101</td>\n",
       "      <td>Dan Aykroyd</td>\n",
       "      <td>7.9</td>\n",
       "      <td>213552.0</td>\n",
       "      <td>[The Blues Brothers]</td>\n",
       "    </tr>\n",
       "    <tr>\n",
       "      <th>2</th>\n",
       "      <td>1980.0</td>\n",
       "      <td>nm0000102</td>\n",
       "      <td>Kevin Bacon</td>\n",
       "      <td>6.4</td>\n",
       "      <td>156772.0</td>\n",
       "      <td>[Friday the 13th]</td>\n",
       "    </tr>\n",
       "  </tbody>\n",
       "</table>\n",
       "</div>"
      ],
      "text/plain": [
       "   startYear     nconst  primaryName  averageRating  numVotes   \n",
       "0     1980.0  nm0000095  Woody Allen            7.2   23919.0  \\\n",
       "1     1980.0  nm0000101  Dan Aykroyd            7.9  213552.0   \n",
       "2     1980.0  nm0000102  Kevin Bacon            6.4  156772.0   \n",
       "\n",
       "           primaryTitle  \n",
       "0   [Stardust Memories]  \n",
       "1  [The Blues Brothers]  \n",
       "2     [Friday the 13th]  "
      ]
     },
     "execution_count": 31,
     "metadata": {},
     "output_type": "execute_result"
    }
   ],
   "source": [
    "actors_filtered_agg = actors_filtered.groupby(['startYear','nconst','primaryName']).agg(averageRating=('averageRating','mean')\n",
    "                                                                               ,numVotes=('numVotes','mean')\n",
    "                                                                               ,primaryTitle=('primaryTitle',list)).reset_index()\n",
    "actors_filtered_agg.head(3)"
   ]
  },
  {
   "cell_type": "code",
   "execution_count": 37,
   "metadata": {},
   "outputs": [],
   "source": [
    "actors_with_all_years = all_years_all_actors.merge(actors_filtered_agg[['startYear','nconst','primaryName','averageRating','numVotes','primaryTitle']]\n",
    "                           , how='left', on=['startYear','primaryName']).drop(labels='key', axis=1)\n",
    "\n",
    "actors_with_all_years['has_movie'] = ~actors_with_all_years['primaryTitle'].isna()"
   ]
  },
  {
   "cell_type": "code",
   "execution_count": 38,
   "metadata": {},
   "outputs": [],
   "source": [
    "actors_with_all_years_sorted = actors_with_all_years.sort_values(['primaryName','startYear'])"
   ]
  },
  {
   "cell_type": "code",
   "execution_count": 39,
   "metadata": {},
   "outputs": [],
   "source": [
    "actors_with_all_years_sorted['startYear'] = actors_with_all_years_sorted['startYear'].astype(int)\n",
    "actors_with_all_years_sorted['birthYear'] = actors_with_all_years_sorted['birthYear'].astype(int)\n",
    "actors_with_all_years_sorted['age_at_movie'] = actors_with_all_years_sorted['startYear']-actors_with_all_years_sorted['birthYear']"
   ]
  },
  {
   "cell_type": "code",
   "execution_count": 40,
   "metadata": {},
   "outputs": [],
   "source": [
    "actors_with_all_years_sorted['rolling_5yr_movies'] = actors_with_all_years_sorted.groupby('primaryName')['has_movie'].transform(lambda s: s.rolling(5, min_periods=1).sum())\n",
    "actors_with_all_years_sorted['rolling_5yr_avgrating'] = actors_with_all_years_sorted.groupby('primaryName')['averageRating'].transform(lambda s: s.rolling(5, min_periods=1).mean())\n",
    "actors_with_all_years_sorted['rolling_5yr_sumrating'] = actors_with_all_years_sorted.groupby('primaryName')['averageRating'].transform(lambda s: s.rolling(5, min_periods=1).sum())\n",
    "actors_with_all_years_sorted['max_rolling_5yr_sumrating'] = actors_with_all_years_sorted.groupby('primaryName')['rolling_5yr_sumrating'].transform('max')"
   ]
  },
  {
   "cell_type": "code",
   "execution_count": 41,
   "metadata": {},
   "outputs": [],
   "source": [
    "actors_with_all_years_sorted.to_csv(\"actors_with_all_years_sorted.csv\", index=False)"
   ]
  },
  {
   "cell_type": "code",
   "execution_count": 16,
   "metadata": {},
   "outputs": [
    {
     "data": {
      "application/vnd.jupyter.widget-view+json": {
       "model_id": "87ec5628a6514aee8411a41ff32b8c81",
       "version_major": 2,
       "version_minor": 0
      },
      "text/plain": [
       "interactive(children=(IntSlider(value=1980, description='one_year', max=2024, min=1980), Output()), _dom_class…"
      ]
     },
     "metadata": {},
     "output_type": "display_data"
    }
   ],
   "source": [
    "@interact(one_year=widgets.IntSlider(min=1980, max=2024, step=1, value=1980))\n",
    "def get_one_year(one_year):\n",
    "    one_year_actors = (actors_with_all_years_sorted[(actors_with_all_years_sorted['startYear']==one_year)\n",
    "                                                #    &(actors_with_all_years_sorted['has_movie']==1)\n",
    "                                                   ].copy())\n",
    "    fig, ax = plt.subplots(figsize=(11,6))\n",
    "    ax.scatter(one_year_actors['age_at_movie'], one_year_actors['rolling_5yr_sumrating'])\n",
    "\n",
    "    for idx, row in one_year_actors.iterrows():\n",
    "        ax.annotate(row['primaryName'], (row['age_at_movie'], row['rolling_5yr_sumrating']))\n",
    "\n",
    "    year_title = ax.annotate(f\"Year {one_year}\",(40,38), fontsize=16, ha='center', fontweight='bold')\n",
    "    year_title.set_bbox(dict(facecolor='white', alpha=0.9, edgecolor='white'))\n",
    "\n",
    "    ax.spines['left'].set_position(('data', 40))\n",
    "    ax.spines['right'].set_position(('data', 40))\n",
    "    ax.set_ylim(ymin=7, ymax=actors_with_all_years_sorted['rolling_5yr_sumrating'].max())\n",
    "    ax.set_xlim(xmin=20, xmax=70)"
   ]
  },
  {
   "cell_type": "code",
   "execution_count": 20,
   "metadata": {},
   "outputs": [
    {
     "data": {
      "application/vnd.jupyter.widget-view+json": {
       "model_id": "92a3ece42e814ef9b8c9e4e8daa20060",
       "version_major": 2,
       "version_minor": 0
      },
      "text/plain": [
       "interactive(children=(IntSlider(value=1980, description='one_year', max=2024, min=1980), Output()), _dom_class…"
      ]
     },
     "metadata": {},
     "output_type": "display_data"
    }
   ],
   "source": [
    "#filter based max max_rolling_5yr_sumrating\n",
    "filtered_actors_with_all_years_sorted = actors_with_all_years_sorted[actors_with_all_years_sorted['max_rolling_5yr_sumrating']>=30].copy()\n",
    "max_y = filtered_actors_with_all_years_sorted['rolling_5yr_sumrating'].max()\n",
    "@interact(one_year=widgets.IntSlider(min=1980, max=2024, step=1, value=1980))\n",
    "def get_one_year(one_year):\n",
    "    one_year_actors = (filtered_actors_with_all_years_sorted[(filtered_actors_with_all_years_sorted['startYear']==one_year)\n",
    "                                                   ].copy())\n",
    "    fig, ax = plt.subplots(figsize=(11,6))\n",
    "    ax.scatter(one_year_actors['age_at_movie'], one_year_actors['rolling_5yr_sumrating'])\n",
    "\n",
    "    for idx, row in one_year_actors.iterrows():\n",
    "        ax.annotate(row['primaryName'], (row['age_at_movie'], row['rolling_5yr_sumrating']))\n",
    "\n",
    "    year_title = ax.annotate(f\"Year {one_year}\",(40,38), fontsize=16, ha='center', fontweight='bold')\n",
    "    year_title.set_bbox(dict(facecolor='white', alpha=0.9, edgecolor='white'))\n",
    "\n",
    "    ax.spines['left'].set_position(('data', 40))\n",
    "    ax.spines['right'].set_position(('data', 40))\n",
    "    ax.set_ylim(ymin=7, ymax=max_y)\n",
    "    ax.set_xlim(xmin=20, xmax=70)"
   ]
  },
  {
   "cell_type": "code",
   "execution_count": null,
   "metadata": {},
   "outputs": [],
   "source": []
  }
 ],
 "metadata": {
  "kernelspec": {
   "display_name": "taylor-lyrics",
   "language": "python",
   "name": "python3"
  },
  "language_info": {
   "codemirror_mode": {
    "name": "ipython",
    "version": 3
   },
   "file_extension": ".py",
   "mimetype": "text/x-python",
   "name": "python",
   "nbconvert_exporter": "python",
   "pygments_lexer": "ipython3",
   "version": "3.10.6"
  }
 },
 "nbformat": 4,
 "nbformat_minor": 2
}
