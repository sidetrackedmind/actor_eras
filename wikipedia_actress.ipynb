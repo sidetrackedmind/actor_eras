{
 "cells": [
  {
   "cell_type": "code",
   "execution_count": 53,
   "metadata": {},
   "outputs": [],
   "source": [
    "import requests\n",
    "from bs4 import BeautifulSoup\n",
    "import pandas as pd\n",
    "\n",
    "def get_full_text(actor_name):\n",
    "    url = 'https://en.wikipedia.org/w/api.php'\n",
    "    params = {\n",
    "        'action': 'parse',\n",
    "        'format': 'json',\n",
    "        'page': actor_name,\n",
    "        'prop': 'text',\n",
    "        'redirects': '',\n",
    "    }\n",
    "    response = requests.get(url, params=params).json()\n",
    "    raw_html = response['parse']['text']['*']\n",
    "    return raw_html\n",
    "\n",
    "def get_wiki_image_link(raw_html):\n",
    "    ''''''\n",
    "    soup = BeautifulSoup(raw_html, \"html.parser\")\n",
    "\n",
    "    raw_image_link = soup.select_one(\"td\", class_=\"infobox-image\").select_one('img').get('src')\n",
    "\n",
    "    wiki_image_link = f\"https:{raw_image_link}\"\n",
    "\n",
    "    return wiki_image_link\n",
    "\n",
    "def get_wiki_image_link_alt(raw_html):\n",
    "    ''''''\n",
    "    soup = BeautifulSoup(raw_html, \"html.parser\")\n",
    "\n",
    "    infobox_image_tag = soup.find_all(lambda tag: tag.name == 'td' and \n",
    "                                   tag.get('class') == ['infobox-image'])[0]\n",
    "\n",
    "    raw_image_link = infobox_image_tag.select_one('img').get('src')\n",
    "\n",
    "    wiki_image_link = f\"https:{raw_image_link}\"\n",
    "\n",
    "    return wiki_image_link"
   ]
  },
  {
   "cell_type": "markdown",
   "metadata": {},
   "source": [
    "## Test"
   ]
  },
  {
   "cell_type": "code",
   "execution_count": 31,
   "metadata": {},
   "outputs": [
    {
     "data": {
      "text/plain": [
       "'https://upload.wikimedia.org/wikipedia/commons/thumb/4/4c/Brad_Pitt_2019_by_Glenn_Francis.jpg/220px-Brad_Pitt_2019_by_Glenn_Francis.jpg'"
      ]
     },
     "execution_count": 31,
     "metadata": {},
     "output_type": "execute_result"
    }
   ],
   "source": [
    "brad_pitt_full_text = get_full_text('Brad Pitt')\n",
    "\n",
    "get_wiki_image_link(brad_pitt_full_text)"
   ]
  },
  {
   "cell_type": "code",
   "execution_count": 41,
   "metadata": {},
   "outputs": [],
   "source": [
    "full_text = get_full_text('Jet Li')"
   ]
  },
  {
   "cell_type": "code",
   "execution_count": 43,
   "metadata": {},
   "outputs": [],
   "source": [
    "soup = BeautifulSoup(full_text, \"html.parser\")"
   ]
  },
  {
   "cell_type": "code",
   "execution_count": 52,
   "metadata": {},
   "outputs": [
    {
     "data": {
      "text/plain": [
       "'//upload.wikimedia.org/wikipedia/commons/thumb/4/41/Jet_Li_2009_%28cropped%29.jpg/220px-Jet_Li_2009_%28cropped%29.jpg'"
      ]
     },
     "execution_count": 52,
     "metadata": {},
     "output_type": "execute_result"
    }
   ],
   "source": [
    "# soup.select(\"td\", class_=\"infobox-image\")\n",
    "\n",
    "soup.find_all(lambda tag: tag.name == 'td' and \n",
    "                                   tag.get('class') == ['infobox-image'])[0].select_one('img').get('src')"
   ]
  },
  {
   "cell_type": "code",
   "execution_count": 6,
   "metadata": {},
   "outputs": [
    {
     "data": {
      "text/html": [
       "<div>\n",
       "<style scoped>\n",
       "    .dataframe tbody tr th:only-of-type {\n",
       "        vertical-align: middle;\n",
       "    }\n",
       "\n",
       "    .dataframe tbody tr th {\n",
       "        vertical-align: top;\n",
       "    }\n",
       "\n",
       "    .dataframe thead th {\n",
       "        text-align: right;\n",
       "    }\n",
       "</style>\n",
       "<table border=\"1\" class=\"dataframe\">\n",
       "  <thead>\n",
       "    <tr style=\"text-align: right;\">\n",
       "      <th></th>\n",
       "      <th>nconst</th>\n",
       "      <th>primaryName</th>\n",
       "    </tr>\n",
       "  </thead>\n",
       "  <tbody>\n",
       "    <tr>\n",
       "      <th>0</th>\n",
       "      <td>nm0000685</td>\n",
       "      <td>Jon Voight</td>\n",
       "    </tr>\n",
       "    <tr>\n",
       "      <th>1</th>\n",
       "      <td>nm1221047</td>\n",
       "      <td>Keegan-Michael Key</td>\n",
       "    </tr>\n",
       "    <tr>\n",
       "      <th>14</th>\n",
       "      <td>nm0004335</td>\n",
       "      <td>Hrithik Roshan</td>\n",
       "    </tr>\n",
       "  </tbody>\n",
       "</table>\n",
       "</div>"
      ],
      "text/plain": [
       "       nconst         primaryName\n",
       "0   nm0000685          Jon Voight\n",
       "1   nm1221047  Keegan-Michael Key\n",
       "14  nm0004335      Hrithik Roshan"
      ]
     },
     "execution_count": 6,
     "metadata": {},
     "output_type": "execute_result"
    }
   ],
   "source": [
    "actors_filtered = pd.read_csv(\"actors_filtered.csv\",usecols=['nconst','primaryName']).drop_duplicates()\n",
    "actors_filtered.head(3)"
   ]
  },
  {
   "cell_type": "code",
   "execution_count": 13,
   "metadata": {},
   "outputs": [],
   "source": [
    "image_link_list = []\n",
    "for idx, row in actors_filtered.iterrows():\n",
    "    nconst = row['nconst']\n",
    "    try:\n",
    "        full_html_text = get_full_text(row['primaryName'])\n",
    "\n",
    "        wiki_image_link = get_wiki_image_link(full_html_text)\n",
    "    except:\n",
    "        wiki_image_link = ''\n",
    "    \n",
    "    image_link_list.append((nconst, wiki_image_link))"
   ]
  },
  {
   "cell_type": "code",
   "execution_count": 14,
   "metadata": {},
   "outputs": [],
   "source": [
    "image_link_list_df = pd.DataFrame(image_link_list, columns=['nconst','wiki_image_link'])"
   ]
  },
  {
   "cell_type": "code",
   "execution_count": 15,
   "metadata": {},
   "outputs": [],
   "source": [
    "image_link_list_df.to_csv(\"image_link_list.csv\", index=False)"
   ]
  },
  {
   "cell_type": "code",
   "execution_count": 17,
   "metadata": {},
   "outputs": [
    {
     "data": {
      "text/html": [
       "<div>\n",
       "<style scoped>\n",
       "    .dataframe tbody tr th:only-of-type {\n",
       "        vertical-align: middle;\n",
       "    }\n",
       "\n",
       "    .dataframe tbody tr th {\n",
       "        vertical-align: top;\n",
       "    }\n",
       "\n",
       "    .dataframe thead th {\n",
       "        text-align: right;\n",
       "    }\n",
       "</style>\n",
       "<table border=\"1\" class=\"dataframe\">\n",
       "  <thead>\n",
       "    <tr style=\"text-align: right;\">\n",
       "      <th></th>\n",
       "      <th>nconst</th>\n",
       "      <th>wiki_image_link</th>\n",
       "      <th>primaryName</th>\n",
       "    </tr>\n",
       "  </thead>\n",
       "  <tbody>\n",
       "    <tr>\n",
       "      <th>0</th>\n",
       "      <td>nm0000685</td>\n",
       "      <td>https://upload.wikimedia.org/wikipedia/commons...</td>\n",
       "      <td>Jon Voight</td>\n",
       "    </tr>\n",
       "    <tr>\n",
       "      <th>1</th>\n",
       "      <td>nm1221047</td>\n",
       "      <td>https://upload.wikimedia.org/wikipedia/commons...</td>\n",
       "      <td>Keegan-Michael Key</td>\n",
       "    </tr>\n",
       "    <tr>\n",
       "      <th>2</th>\n",
       "      <td>nm0004335</td>\n",
       "      <td>https://upload.wikimedia.org/wikipedia/commons...</td>\n",
       "      <td>Hrithik Roshan</td>\n",
       "    </tr>\n",
       "  </tbody>\n",
       "</table>\n",
       "</div>"
      ],
      "text/plain": [
       "      nconst                                    wiki_image_link   \n",
       "0  nm0000685  https://upload.wikimedia.org/wikipedia/commons...  \\\n",
       "1  nm1221047  https://upload.wikimedia.org/wikipedia/commons...   \n",
       "2  nm0004335  https://upload.wikimedia.org/wikipedia/commons...   \n",
       "\n",
       "          primaryName  \n",
       "0          Jon Voight  \n",
       "1  Keegan-Michael Key  \n",
       "2      Hrithik Roshan  "
      ]
     },
     "execution_count": 17,
     "metadata": {},
     "output_type": "execute_result"
    }
   ],
   "source": [
    "image_link_list_w_name = image_link_list_df.merge(actors_filtered, on='nconst')\n",
    "image_link_list_w_name.head(3)"
   ]
  },
  {
   "cell_type": "code",
   "execution_count": 33,
   "metadata": {},
   "outputs": [],
   "source": [
    "missing_image_link_list = []\n",
    "for idx, row in image_link_list_w_name[image_link_list_w_name['wiki_image_link']==''].iterrows():\n",
    "    nconst = row['nconst']\n",
    "    try:\n",
    "        full_html_text = get_full_text(f\"{row['primaryName']} (actor)\")\n",
    "\n",
    "        wiki_image_link = get_wiki_image_link(full_html_text)\n",
    "    except:\n",
    "        wiki_image_link = ''\n",
    "    \n",
    "    missing_image_link_list.append((nconst, wiki_image_link))"
   ]
  },
  {
   "cell_type": "code",
   "execution_count": 39,
   "metadata": {},
   "outputs": [
    {
     "data": {
      "text/html": [
       "<div>\n",
       "<style scoped>\n",
       "    .dataframe tbody tr th:only-of-type {\n",
       "        vertical-align: middle;\n",
       "    }\n",
       "\n",
       "    .dataframe tbody tr th {\n",
       "        vertical-align: top;\n",
       "    }\n",
       "\n",
       "    .dataframe thead th {\n",
       "        text-align: right;\n",
       "    }\n",
       "</style>\n",
       "<table border=\"1\" class=\"dataframe\">\n",
       "  <thead>\n",
       "    <tr style=\"text-align: right;\">\n",
       "      <th></th>\n",
       "      <th>nconst</th>\n",
       "      <th>wiki_image_link</th>\n",
       "      <th>primaryName</th>\n",
       "    </tr>\n",
       "  </thead>\n",
       "  <tbody>\n",
       "    <tr>\n",
       "      <th>0</th>\n",
       "      <td>nm0504897</td>\n",
       "      <td></td>\n",
       "      <td>Tony Leung Chiu-wai</td>\n",
       "    </tr>\n",
       "    <tr>\n",
       "      <th>1</th>\n",
       "      <td>nm0898546</td>\n",
       "      <td></td>\n",
       "      <td>Pruitt Taylor Vince</td>\n",
       "    </tr>\n",
       "    <tr>\n",
       "      <th>2</th>\n",
       "      <td>nm0001472</td>\n",
       "      <td></td>\n",
       "      <td>Jet Li</td>\n",
       "    </tr>\n",
       "    <tr>\n",
       "      <th>3</th>\n",
       "      <td>nm0947447</td>\n",
       "      <td></td>\n",
       "      <td>Donnie Yen</td>\n",
       "    </tr>\n",
       "    <tr>\n",
       "      <th>4</th>\n",
       "      <td>nm0000699</td>\n",
       "      <td></td>\n",
       "      <td>Michael Wincott</td>\n",
       "    </tr>\n",
       "    <tr>\n",
       "      <th>5</th>\n",
       "      <td>nm0001601</td>\n",
       "      <td></td>\n",
       "      <td>David Paymer</td>\n",
       "    </tr>\n",
       "    <tr>\n",
       "      <th>6</th>\n",
       "      <td>nm0001334</td>\n",
       "      <td>https://upload.wikimedia.org/wikipedia/commons...</td>\n",
       "      <td>John Heard</td>\n",
       "    </tr>\n",
       "    <tr>\n",
       "      <th>7</th>\n",
       "      <td>nm0947338</td>\n",
       "      <td></td>\n",
       "      <td>Anton Yelchin</td>\n",
       "    </tr>\n",
       "    <tr>\n",
       "      <th>8</th>\n",
       "      <td>nm0262635</td>\n",
       "      <td>https://upload.wikimedia.org/wikipedia/commons...</td>\n",
       "      <td>Chris Evans</td>\n",
       "    </tr>\n",
       "    <tr>\n",
       "      <th>9</th>\n",
       "      <td>nm0004936</td>\n",
       "      <td>https://upload.wikimedia.org/wikipedia/commons...</td>\n",
       "      <td>Ben Foster</td>\n",
       "    </tr>\n",
       "    <tr>\n",
       "      <th>10</th>\n",
       "      <td>nm0004051</td>\n",
       "      <td>https://upload.wikimedia.org/wikipedia/commons...</td>\n",
       "      <td>Brian Cox</td>\n",
       "    </tr>\n",
       "  </tbody>\n",
       "</table>\n",
       "</div>"
      ],
      "text/plain": [
       "       nconst                                    wiki_image_link   \n",
       "0   nm0504897                                                     \\\n",
       "1   nm0898546                                                      \n",
       "2   nm0001472                                                      \n",
       "3   nm0947447                                                      \n",
       "4   nm0000699                                                      \n",
       "5   nm0001601                                                      \n",
       "6   nm0001334  https://upload.wikimedia.org/wikipedia/commons...   \n",
       "7   nm0947338                                                      \n",
       "8   nm0262635  https://upload.wikimedia.org/wikipedia/commons...   \n",
       "9   nm0004936  https://upload.wikimedia.org/wikipedia/commons...   \n",
       "10  nm0004051  https://upload.wikimedia.org/wikipedia/commons...   \n",
       "\n",
       "            primaryName  \n",
       "0   Tony Leung Chiu-wai  \n",
       "1   Pruitt Taylor Vince  \n",
       "2                Jet Li  \n",
       "3            Donnie Yen  \n",
       "4       Michael Wincott  \n",
       "5          David Paymer  \n",
       "6            John Heard  \n",
       "7         Anton Yelchin  \n",
       "8           Chris Evans  \n",
       "9            Ben Foster  \n",
       "10            Brian Cox  "
      ]
     },
     "execution_count": 39,
     "metadata": {},
     "output_type": "execute_result"
    }
   ],
   "source": [
    "missing_image_link_list_df = pd.DataFrame(missing_image_link_list, columns=['nconst','wiki_image_link']).merge(actors_filtered, on='nconst')\n",
    "missing_image_link_list_df"
   ]
  },
  {
   "cell_type": "code",
   "execution_count": 54,
   "metadata": {},
   "outputs": [],
   "source": [
    "missing2_image_link_list = []\n",
    "for idx, row in missing_image_link_list_df[missing_image_link_list_df['wiki_image_link']==''].iterrows():\n",
    "    nconst = row['nconst']\n",
    "    try:\n",
    "        full_html_text = get_full_text(f\"{row['primaryName']}\")\n",
    "\n",
    "        wiki_image_link = get_wiki_image_link_alt(full_html_text)\n",
    "    except:\n",
    "        wiki_image_link = ''\n",
    "    \n",
    "    missing2_image_link_list.append((nconst, wiki_image_link))"
   ]
  },
  {
   "cell_type": "code",
   "execution_count": 56,
   "metadata": {},
   "outputs": [
    {
     "data": {
      "text/html": [
       "<div>\n",
       "<style scoped>\n",
       "    .dataframe tbody tr th:only-of-type {\n",
       "        vertical-align: middle;\n",
       "    }\n",
       "\n",
       "    .dataframe tbody tr th {\n",
       "        vertical-align: top;\n",
       "    }\n",
       "\n",
       "    .dataframe thead th {\n",
       "        text-align: right;\n",
       "    }\n",
       "</style>\n",
       "<table border=\"1\" class=\"dataframe\">\n",
       "  <thead>\n",
       "    <tr style=\"text-align: right;\">\n",
       "      <th></th>\n",
       "      <th>nconst</th>\n",
       "      <th>wiki_image_link</th>\n",
       "      <th>primaryName</th>\n",
       "    </tr>\n",
       "  </thead>\n",
       "  <tbody>\n",
       "    <tr>\n",
       "      <th>0</th>\n",
       "      <td>nm0504897</td>\n",
       "      <td>https://upload.wikimedia.org/wikipedia/commons...</td>\n",
       "      <td>Tony Leung Chiu-wai</td>\n",
       "    </tr>\n",
       "    <tr>\n",
       "      <th>1</th>\n",
       "      <td>nm0898546</td>\n",
       "      <td></td>\n",
       "      <td>Pruitt Taylor Vince</td>\n",
       "    </tr>\n",
       "    <tr>\n",
       "      <th>2</th>\n",
       "      <td>nm0001472</td>\n",
       "      <td>https://upload.wikimedia.org/wikipedia/commons...</td>\n",
       "      <td>Jet Li</td>\n",
       "    </tr>\n",
       "    <tr>\n",
       "      <th>3</th>\n",
       "      <td>nm0947447</td>\n",
       "      <td>https://upload.wikimedia.org/wikipedia/commons...</td>\n",
       "      <td>Donnie Yen</td>\n",
       "    </tr>\n",
       "    <tr>\n",
       "      <th>4</th>\n",
       "      <td>nm0000699</td>\n",
       "      <td></td>\n",
       "      <td>Michael Wincott</td>\n",
       "    </tr>\n",
       "    <tr>\n",
       "      <th>5</th>\n",
       "      <td>nm0001601</td>\n",
       "      <td></td>\n",
       "      <td>David Paymer</td>\n",
       "    </tr>\n",
       "    <tr>\n",
       "      <th>6</th>\n",
       "      <td>nm0947338</td>\n",
       "      <td>https://upload.wikimedia.org/wikipedia/commons...</td>\n",
       "      <td>Anton Yelchin</td>\n",
       "    </tr>\n",
       "  </tbody>\n",
       "</table>\n",
       "</div>"
      ],
      "text/plain": [
       "      nconst                                    wiki_image_link   \n",
       "0  nm0504897  https://upload.wikimedia.org/wikipedia/commons...  \\\n",
       "1  nm0898546                                                      \n",
       "2  nm0001472  https://upload.wikimedia.org/wikipedia/commons...   \n",
       "3  nm0947447  https://upload.wikimedia.org/wikipedia/commons...   \n",
       "4  nm0000699                                                      \n",
       "5  nm0001601                                                      \n",
       "6  nm0947338  https://upload.wikimedia.org/wikipedia/commons...   \n",
       "\n",
       "           primaryName  \n",
       "0  Tony Leung Chiu-wai  \n",
       "1  Pruitt Taylor Vince  \n",
       "2               Jet Li  \n",
       "3           Donnie Yen  \n",
       "4      Michael Wincott  \n",
       "5         David Paymer  \n",
       "6        Anton Yelchin  "
      ]
     },
     "execution_count": 56,
     "metadata": {},
     "output_type": "execute_result"
    }
   ],
   "source": [
    "missing2_image_link_list_df = pd.DataFrame(missing2_image_link_list, columns=['nconst','wiki_image_link']).merge(actors_filtered, on='nconst')\n",
    "missing2_image_link_list_df"
   ]
  },
  {
   "cell_type": "code",
   "execution_count": 62,
   "metadata": {},
   "outputs": [
    {
     "data": {
      "text/html": [
       "<div>\n",
       "<style scoped>\n",
       "    .dataframe tbody tr th:only-of-type {\n",
       "        vertical-align: middle;\n",
       "    }\n",
       "\n",
       "    .dataframe tbody tr th {\n",
       "        vertical-align: top;\n",
       "    }\n",
       "\n",
       "    .dataframe thead th {\n",
       "        text-align: right;\n",
       "    }\n",
       "</style>\n",
       "<table border=\"1\" class=\"dataframe\">\n",
       "  <thead>\n",
       "    <tr style=\"text-align: right;\">\n",
       "      <th></th>\n",
       "      <th>nconst</th>\n",
       "      <th>wiki_image_link</th>\n",
       "      <th>primaryName</th>\n",
       "    </tr>\n",
       "  </thead>\n",
       "  <tbody>\n",
       "    <tr>\n",
       "      <th>0</th>\n",
       "      <td>nm0000685</td>\n",
       "      <td>https://upload.wikimedia.org/wikipedia/commons...</td>\n",
       "      <td>Jon Voight</td>\n",
       "    </tr>\n",
       "    <tr>\n",
       "      <th>1</th>\n",
       "      <td>nm1221047</td>\n",
       "      <td>https://upload.wikimedia.org/wikipedia/commons...</td>\n",
       "      <td>Keegan-Michael Key</td>\n",
       "    </tr>\n",
       "    <tr>\n",
       "      <th>2</th>\n",
       "      <td>nm0004335</td>\n",
       "      <td>https://upload.wikimedia.org/wikipedia/commons...</td>\n",
       "      <td>Hrithik Roshan</td>\n",
       "    </tr>\n",
       "  </tbody>\n",
       "</table>\n",
       "</div>"
      ],
      "text/plain": [
       "      nconst                                    wiki_image_link   \n",
       "0  nm0000685  https://upload.wikimedia.org/wikipedia/commons...  \\\n",
       "1  nm1221047  https://upload.wikimedia.org/wikipedia/commons...   \n",
       "2  nm0004335  https://upload.wikimedia.org/wikipedia/commons...   \n",
       "\n",
       "          primaryName  \n",
       "0          Jon Voight  \n",
       "1  Keegan-Michael Key  \n",
       "2      Hrithik Roshan  "
      ]
     },
     "execution_count": 62,
     "metadata": {},
     "output_type": "execute_result"
    }
   ],
   "source": [
    "image_link_list_w_name_all = pd.concat([image_link_list_w_name[image_link_list_w_name['wiki_image_link']!='']\n",
    "                                    ,missing_image_link_list_df[missing_image_link_list_df['wiki_image_link']!='']\n",
    "                                    ,missing2_image_link_list_df]).reset_index(drop=True)\n",
    "\n",
    "image_link_list_w_name_all.head(3)"
   ]
  },
  {
   "cell_type": "code",
   "execution_count": 64,
   "metadata": {},
   "outputs": [],
   "source": [
    "fill_missing_image = \"https://upload.wikimedia.org/wikipedia/commons/2/25/Icon-round-Question_mark.jpg\"\n",
    "\n",
    "image_link_list_w_name_all['wiki_image_link'] = image_link_list_w_name_all['wiki_image_link'].apply(lambda x: x if x!='' else fill_missing_image)"
   ]
  },
  {
   "cell_type": "code",
   "execution_count": 65,
   "metadata": {},
   "outputs": [
    {
     "data": {
      "text/html": [
       "<div>\n",
       "<style scoped>\n",
       "    .dataframe tbody tr th:only-of-type {\n",
       "        vertical-align: middle;\n",
       "    }\n",
       "\n",
       "    .dataframe tbody tr th {\n",
       "        vertical-align: top;\n",
       "    }\n",
       "\n",
       "    .dataframe thead th {\n",
       "        text-align: right;\n",
       "    }\n",
       "</style>\n",
       "<table border=\"1\" class=\"dataframe\">\n",
       "  <thead>\n",
       "    <tr style=\"text-align: right;\">\n",
       "      <th></th>\n",
       "      <th>nconst</th>\n",
       "      <th>wiki_image_link</th>\n",
       "      <th>primaryName</th>\n",
       "    </tr>\n",
       "  </thead>\n",
       "  <tbody>\n",
       "    <tr>\n",
       "      <th>0</th>\n",
       "      <td>nm0000685</td>\n",
       "      <td>https://upload.wikimedia.org/wikipedia/commons...</td>\n",
       "      <td>Jon Voight</td>\n",
       "    </tr>\n",
       "    <tr>\n",
       "      <th>1</th>\n",
       "      <td>nm1221047</td>\n",
       "      <td>https://upload.wikimedia.org/wikipedia/commons...</td>\n",
       "      <td>Keegan-Michael Key</td>\n",
       "    </tr>\n",
       "    <tr>\n",
       "      <th>2</th>\n",
       "      <td>nm0004335</td>\n",
       "      <td>https://upload.wikimedia.org/wikipedia/commons...</td>\n",
       "      <td>Hrithik Roshan</td>\n",
       "    </tr>\n",
       "  </tbody>\n",
       "</table>\n",
       "</div>"
      ],
      "text/plain": [
       "      nconst                                    wiki_image_link   \n",
       "0  nm0000685  https://upload.wikimedia.org/wikipedia/commons...  \\\n",
       "1  nm1221047  https://upload.wikimedia.org/wikipedia/commons...   \n",
       "2  nm0004335  https://upload.wikimedia.org/wikipedia/commons...   \n",
       "\n",
       "          primaryName  \n",
       "0          Jon Voight  \n",
       "1  Keegan-Michael Key  \n",
       "2      Hrithik Roshan  "
      ]
     },
     "execution_count": 65,
     "metadata": {},
     "output_type": "execute_result"
    }
   ],
   "source": [
    "image_link_list_w_name_all.head(3)"
   ]
  },
  {
   "cell_type": "code",
   "execution_count": 66,
   "metadata": {},
   "outputs": [],
   "source": [
    "image_link_list_w_name_all.to_csv(\"image_link_list_w_name_all.csv\", index=False)"
   ]
  },
  {
   "cell_type": "code",
   "execution_count": null,
   "metadata": {},
   "outputs": [],
   "source": []
  }
 ],
 "metadata": {
  "kernelspec": {
   "display_name": "taylor-lyrics",
   "language": "python",
   "name": "python3"
  },
  "language_info": {
   "codemirror_mode": {
    "name": "ipython",
    "version": 3
   },
   "file_extension": ".py",
   "mimetype": "text/x-python",
   "name": "python",
   "nbconvert_exporter": "python",
   "pygments_lexer": "ipython3",
   "version": "3.10.6"
  }
 },
 "nbformat": 4,
 "nbformat_minor": 2
}
