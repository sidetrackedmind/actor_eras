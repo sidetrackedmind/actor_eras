{
 "cells": [
  {
   "cell_type": "code",
   "execution_count": 3,
   "metadata": {},
   "outputs": [],
   "source": [
    "import requests\n",
    "from bs4 import BeautifulSoup\n",
    "import pandas as pd"
   ]
  },
  {
   "cell_type": "markdown",
   "metadata": {},
   "source": [
    "## start with actors > 30 IMDB rating 5yr sum\n",
    "Just to limit the number of movies to pull from mojo"
   ]
  },
  {
   "cell_type": "code",
   "execution_count": 4,
   "metadata": {},
   "outputs": [],
   "source": [
    "def get_mojo_film_money(tconst):\n",
    "    '''\n",
    "    mojo film website uses IMDB tconst for the url\n",
    "    url = f'https://www.boxofficemojo.com/title/{tconst}/'\n",
    "    get film budget by using beautiful soup to parse the summary box\n",
    "    '''\n",
    "    try:\n",
    "        url = f'https://www.boxofficemojo.com/title/{tconst}/'\n",
    "        response = requests.get(url)\n",
    "        html = response.text\n",
    "\n",
    "        soup = BeautifulSoup(html, \"html.parser\")\n",
    "\n",
    "        money_list = [span.text.strip() for span in soup.find_all(\"div\", class_=\"mojo-performance-summary-table\")[0].find_all(\"span\", class_=\"money\")]\n",
    "\n",
    "        label_list = [span.text.strip() for span in soup.find_all(\"div\", class_=\"mojo-performance-summary-table\")[0].find_all(\"span\", class_=\"a-size-small\")]\n",
    "\n",
    "        for idx, label in enumerate(label_list):\n",
    "            if 'Domestic' in label:\n",
    "                df = pd.DataFrame([(tconst, label, money_list[idx])], columns=['tconst','Money_Type','Money_Amount'])\n",
    "    except:\n",
    "        df = pd.DataFrame([(tconst, 'Missing', -999)], columns=['tconst','Money_Type','Money_Amount'])\n",
    "    \n",
    "    return df\n"
   ]
  },
  {
   "cell_type": "code",
   "execution_count": 8,
   "metadata": {},
   "outputs": [
    {
     "data": {
      "text/html": [
       "<div>\n",
       "<style scoped>\n",
       "    .dataframe tbody tr th:only-of-type {\n",
       "        vertical-align: middle;\n",
       "    }\n",
       "\n",
       "    .dataframe tbody tr th {\n",
       "        vertical-align: top;\n",
       "    }\n",
       "\n",
       "    .dataframe thead th {\n",
       "        text-align: right;\n",
       "    }\n",
       "</style>\n",
       "<table border=\"1\" class=\"dataframe\">\n",
       "  <thead>\n",
       "    <tr style=\"text-align: right;\">\n",
       "      <th></th>\n",
       "      <th>nconst</th>\n",
       "    </tr>\n",
       "  </thead>\n",
       "  <tbody>\n",
       "    <tr>\n",
       "      <th>0</th>\n",
       "      <td>nm3485845</td>\n",
       "    </tr>\n",
       "    <tr>\n",
       "      <th>10</th>\n",
       "      <td>nm0001191</td>\n",
       "    </tr>\n",
       "    <tr>\n",
       "      <th>31</th>\n",
       "      <td>nm0004778</td>\n",
       "    </tr>\n",
       "  </tbody>\n",
       "</table>\n",
       "</div>"
      ],
      "text/plain": [
       "       nconst\n",
       "0   nm3485845\n",
       "10  nm0001191\n",
       "31  nm0004778"
      ]
     },
     "execution_count": 8,
     "metadata": {},
     "output_type": "execute_result"
    }
   ],
   "source": [
    "actors_all_year_filtered = pd.read_csv(\"actors_all_year_30+_with_link.csv\")[['nconst']].drop_duplicates()\n",
    "actors_all_year_filtered.head(3)"
   ]
  },
  {
   "cell_type": "code",
   "execution_count": 6,
   "metadata": {},
   "outputs": [
    {
     "data": {
      "text/html": [
       "<div>\n",
       "<style scoped>\n",
       "    .dataframe tbody tr th:only-of-type {\n",
       "        vertical-align: middle;\n",
       "    }\n",
       "\n",
       "    .dataframe tbody tr th {\n",
       "        vertical-align: top;\n",
       "    }\n",
       "\n",
       "    .dataframe thead th {\n",
       "        text-align: right;\n",
       "    }\n",
       "</style>\n",
       "<table border=\"1\" class=\"dataframe\">\n",
       "  <thead>\n",
       "    <tr style=\"text-align: right;\">\n",
       "      <th></th>\n",
       "      <th>tconst</th>\n",
       "      <th>ordering</th>\n",
       "      <th>nconst</th>\n",
       "      <th>category</th>\n",
       "      <th>job</th>\n",
       "      <th>characters</th>\n",
       "      <th>averageRating</th>\n",
       "      <th>numVotes</th>\n",
       "      <th>primaryTitle</th>\n",
       "      <th>startYear</th>\n",
       "      <th>region</th>\n",
       "      <th>primaryName</th>\n",
       "      <th>birthYear</th>\n",
       "    </tr>\n",
       "  </thead>\n",
       "  <tbody>\n",
       "    <tr>\n",
       "      <th>0</th>\n",
       "      <td>tt0035423</td>\n",
       "      <td>2</td>\n",
       "      <td>nm0413168</td>\n",
       "      <td>actor</td>\n",
       "      <td>\\N</td>\n",
       "      <td>[\"Leopold\"]</td>\n",
       "      <td>6.4</td>\n",
       "      <td>88860</td>\n",
       "      <td>Kate &amp; Leopold</td>\n",
       "      <td>2001.0</td>\n",
       "      <td>US</td>\n",
       "      <td>Hugh Jackman</td>\n",
       "      <td>1968</td>\n",
       "    </tr>\n",
       "    <tr>\n",
       "      <th>2</th>\n",
       "      <td>tt0120903</td>\n",
       "      <td>2</td>\n",
       "      <td>nm0413168</td>\n",
       "      <td>actor</td>\n",
       "      <td>\\N</td>\n",
       "      <td>[\"Logan\"]</td>\n",
       "      <td>7.3</td>\n",
       "      <td>644121</td>\n",
       "      <td>X-Men</td>\n",
       "      <td>2000.0</td>\n",
       "      <td>US</td>\n",
       "      <td>Hugh Jackman</td>\n",
       "      <td>1968</td>\n",
       "    </tr>\n",
       "    <tr>\n",
       "      <th>8</th>\n",
       "      <td>tt0180037</td>\n",
       "      <td>2</td>\n",
       "      <td>nm0413168</td>\n",
       "      <td>actor</td>\n",
       "      <td>\\N</td>\n",
       "      <td>[\"Jack Willis\"]</td>\n",
       "      <td>6.4</td>\n",
       "      <td>2344</td>\n",
       "      <td>Paperback Hero</td>\n",
       "      <td>1999.0</td>\n",
       "      <td>US</td>\n",
       "      <td>Hugh Jackman</td>\n",
       "      <td>1968</td>\n",
       "    </tr>\n",
       "  </tbody>\n",
       "</table>\n",
       "</div>"
      ],
      "text/plain": [
       "      tconst  ordering     nconst category job       characters   \n",
       "0  tt0035423         2  nm0413168    actor  \\N      [\"Leopold\"]  \\\n",
       "2  tt0120903         2  nm0413168    actor  \\N        [\"Logan\"]   \n",
       "8  tt0180037         2  nm0413168    actor  \\N  [\"Jack Willis\"]   \n",
       "\n",
       "   averageRating  numVotes    primaryTitle  startYear region   primaryName   \n",
       "0            6.4     88860  Kate & Leopold     2001.0     US  Hugh Jackman  \\\n",
       "2            7.3    644121           X-Men     2000.0     US  Hugh Jackman   \n",
       "8            6.4      2344  Paperback Hero     1999.0     US  Hugh Jackman   \n",
       "\n",
       "  birthYear  \n",
       "0      1968  \n",
       "2      1968  \n",
       "8      1968  "
      ]
     },
     "execution_count": 6,
     "metadata": {},
     "output_type": "execute_result"
    }
   ],
   "source": [
    "actor_movies_ratings = pd.read_csv(\"actor_movies_ratings.csv\").drop_duplicates(subset=['tconst','nconst'])\n",
    "actor_movies_ratings.head(3)"
   ]
  },
  {
   "cell_type": "code",
   "execution_count": 9,
   "metadata": {},
   "outputs": [
    {
     "data": {
      "text/plain": [
       "(313009, 13)"
      ]
     },
     "execution_count": 9,
     "metadata": {},
     "output_type": "execute_result"
    }
   ],
   "source": [
    "actor_movies_ratings.shape"
   ]
  },
  {
   "cell_type": "code",
   "execution_count": 7,
   "metadata": {},
   "outputs": [
    {
     "data": {
      "text/html": [
       "<div>\n",
       "<style scoped>\n",
       "    .dataframe tbody tr th:only-of-type {\n",
       "        vertical-align: middle;\n",
       "    }\n",
       "\n",
       "    .dataframe tbody tr th {\n",
       "        vertical-align: top;\n",
       "    }\n",
       "\n",
       "    .dataframe thead th {\n",
       "        text-align: right;\n",
       "    }\n",
       "</style>\n",
       "<table border=\"1\" class=\"dataframe\">\n",
       "  <thead>\n",
       "    <tr style=\"text-align: right;\">\n",
       "      <th></th>\n",
       "      <th>tconst</th>\n",
       "      <th>ordering</th>\n",
       "      <th>nconst</th>\n",
       "      <th>category</th>\n",
       "      <th>job</th>\n",
       "      <th>characters</th>\n",
       "      <th>averageRating</th>\n",
       "      <th>numVotes</th>\n",
       "      <th>primaryTitle</th>\n",
       "      <th>startYear</th>\n",
       "      <th>region</th>\n",
       "      <th>primaryName</th>\n",
       "      <th>birthYear</th>\n",
       "    </tr>\n",
       "  </thead>\n",
       "  <tbody>\n",
       "    <tr>\n",
       "      <th>0</th>\n",
       "      <td>tt0035423</td>\n",
       "      <td>2</td>\n",
       "      <td>nm0413168</td>\n",
       "      <td>actor</td>\n",
       "      <td>\\N</td>\n",
       "      <td>[\"Leopold\"]</td>\n",
       "      <td>6.4</td>\n",
       "      <td>88860</td>\n",
       "      <td>Kate &amp; Leopold</td>\n",
       "      <td>2001.0</td>\n",
       "      <td>US</td>\n",
       "      <td>Hugh Jackman</td>\n",
       "      <td>1968</td>\n",
       "    </tr>\n",
       "    <tr>\n",
       "      <th>1</th>\n",
       "      <td>tt0120903</td>\n",
       "      <td>2</td>\n",
       "      <td>nm0413168</td>\n",
       "      <td>actor</td>\n",
       "      <td>\\N</td>\n",
       "      <td>[\"Logan\"]</td>\n",
       "      <td>7.3</td>\n",
       "      <td>644121</td>\n",
       "      <td>X-Men</td>\n",
       "      <td>2000.0</td>\n",
       "      <td>US</td>\n",
       "      <td>Hugh Jackman</td>\n",
       "      <td>1968</td>\n",
       "    </tr>\n",
       "    <tr>\n",
       "      <th>2</th>\n",
       "      <td>tt0180037</td>\n",
       "      <td>2</td>\n",
       "      <td>nm0413168</td>\n",
       "      <td>actor</td>\n",
       "      <td>\\N</td>\n",
       "      <td>[\"Jack Willis\"]</td>\n",
       "      <td>6.4</td>\n",
       "      <td>2344</td>\n",
       "      <td>Paperback Hero</td>\n",
       "      <td>1999.0</td>\n",
       "      <td>US</td>\n",
       "      <td>Hugh Jackman</td>\n",
       "      <td>1968</td>\n",
       "    </tr>\n",
       "  </tbody>\n",
       "</table>\n",
       "</div>"
      ],
      "text/plain": [
       "      tconst  ordering     nconst category job       characters   \n",
       "0  tt0035423         2  nm0413168    actor  \\N      [\"Leopold\"]  \\\n",
       "1  tt0120903         2  nm0413168    actor  \\N        [\"Logan\"]   \n",
       "2  tt0180037         2  nm0413168    actor  \\N  [\"Jack Willis\"]   \n",
       "\n",
       "   averageRating  numVotes    primaryTitle  startYear region   primaryName   \n",
       "0            6.4     88860  Kate & Leopold     2001.0     US  Hugh Jackman  \\\n",
       "1            7.3    644121           X-Men     2000.0     US  Hugh Jackman   \n",
       "2            6.4      2344  Paperback Hero     1999.0     US  Hugh Jackman   \n",
       "\n",
       "  birthYear  \n",
       "0      1968  \n",
       "1      1968  \n",
       "2      1968  "
      ]
     },
     "execution_count": 7,
     "metadata": {},
     "output_type": "execute_result"
    }
   ],
   "source": [
    "actor_movies_ratings_filtered = actor_movies_ratings.merge(actors_all_year_filtered, how='inner', on='nconst')\n",
    "actor_movies_ratings_filtered.head(3)"
   ]
  },
  {
   "cell_type": "code",
   "execution_count": 10,
   "metadata": {},
   "outputs": [
    {
     "data": {
      "text/plain": [
       "(6708, 13)"
      ]
     },
     "execution_count": 10,
     "metadata": {},
     "output_type": "execute_result"
    }
   ],
   "source": [
    "actor_movies_ratings_filtered.shape"
   ]
  },
  {
   "cell_type": "code",
   "execution_count": 11,
   "metadata": {},
   "outputs": [
    {
     "data": {
      "text/html": [
       "<div>\n",
       "<style scoped>\n",
       "    .dataframe tbody tr th:only-of-type {\n",
       "        vertical-align: middle;\n",
       "    }\n",
       "\n",
       "    .dataframe tbody tr th {\n",
       "        vertical-align: top;\n",
       "    }\n",
       "\n",
       "    .dataframe thead th {\n",
       "        text-align: right;\n",
       "    }\n",
       "</style>\n",
       "<table border=\"1\" class=\"dataframe\">\n",
       "  <thead>\n",
       "    <tr style=\"text-align: right;\">\n",
       "      <th></th>\n",
       "      <th>tconst</th>\n",
       "      <th>Money_Type</th>\n",
       "      <th>Money_Amount</th>\n",
       "    </tr>\n",
       "  </thead>\n",
       "  <tbody>\n",
       "    <tr>\n",
       "      <th>0</th>\n",
       "      <td>tt0035423</td>\n",
       "      <td>Domestic (62%)</td>\n",
       "      <td>$47,121,859</td>\n",
       "    </tr>\n",
       "    <tr>\n",
       "      <th>0</th>\n",
       "      <td>tt0120903</td>\n",
       "      <td>Domestic (53.1%)</td>\n",
       "      <td>$157,299,718</td>\n",
       "    </tr>\n",
       "    <tr>\n",
       "      <th>0</th>\n",
       "      <td>tt0180037</td>\n",
       "      <td>Missing</td>\n",
       "      <td>-999</td>\n",
       "    </tr>\n",
       "  </tbody>\n",
       "</table>\n",
       "</div>"
      ],
      "text/plain": [
       "      tconst        Money_Type  Money_Amount\n",
       "0  tt0035423    Domestic (62%)   $47,121,859\n",
       "0  tt0120903  Domestic (53.1%)  $157,299,718\n",
       "0  tt0180037           Missing          -999"
      ]
     },
     "execution_count": 11,
     "metadata": {},
     "output_type": "execute_result"
    }
   ],
   "source": [
    "df_list = [get_mojo_film_money(tconst) for tconst in actor_movies_ratings_filtered['tconst'].unique()]\n",
    "actor_movies_revenue_filtered = pd.concat(df_list)\n",
    "actor_movies_revenue_filtered.head(3)"
   ]
  },
  {
   "cell_type": "code",
   "execution_count": 12,
   "metadata": {},
   "outputs": [],
   "source": [
    "actor_movies_revenue_filtered.to_csv(\"actor_movies_revenue_filtered.csv\", index=False)"
   ]
  },
  {
   "cell_type": "code",
   "execution_count": 16,
   "metadata": {},
   "outputs": [],
   "source": [
    "(actor_movies_revenue_filtered[actor_movies_revenue_filtered['Money_Type']=='Missing']\n",
    " .merge(actor_movies_ratings_filtered[['tconst','primaryTitle']].drop_duplicates()\n",
    "        , how='inner', on='tconst')\n",
    " .to_csv(\"missing_movie_revenue.csv\", index=False))"
   ]
  },
  {
   "cell_type": "code",
   "execution_count": null,
   "metadata": {},
   "outputs": [],
   "source": []
  }
 ],
 "metadata": {
  "kernelspec": {
   "display_name": "taylor-lyrics",
   "language": "python",
   "name": "python3"
  },
  "language_info": {
   "codemirror_mode": {
    "name": "ipython",
    "version": 3
   },
   "file_extension": ".py",
   "mimetype": "text/x-python",
   "name": "python",
   "nbconvert_exporter": "python",
   "pygments_lexer": "ipython3",
   "version": "3.10.6"
  }
 },
 "nbformat": 4,
 "nbformat_minor": 2
}
